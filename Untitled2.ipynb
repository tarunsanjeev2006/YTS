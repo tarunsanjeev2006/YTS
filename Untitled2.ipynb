{
  "nbformat": 4,
  "nbformat_minor": 0,
  "metadata": {
    "colab": {
      "provenance": [],
      "authorship_tag": "ABX9TyM9uotIrT3yyikovQMOb04k",
      "include_colab_link": true
    },
    "kernelspec": {
      "name": "python3",
      "display_name": "Python 3"
    },
    "language_info": {
      "name": "python"
    }
  },
  "cells": [
    {
      "cell_type": "markdown",
      "metadata": {
        "id": "view-in-github",
        "colab_type": "text"
      },
      "source": [
        "<a href=\"https://colab.research.google.com/github/tarunsanjeev2006/YTS/blob/main/Untitled2.ipynb\" target=\"_parent\"><img src=\"https://colab.research.google.com/assets/colab-badge.svg\" alt=\"Open In Colab\"/></a>"
      ]
    },
    {
      "cell_type": "code",
      "execution_count": 5,
      "metadata": {
        "id": "Tqg-mc-QQjat",
        "colab": {
          "base_uri": "https://localhost:8080/"
        },
        "outputId": "4bc8f49c-c454-498f-de0c-0d9ba27521e8"
      },
      "outputs": [
        {
          "output_type": "stream",
          "name": "stdout",
          "text": [
            "Predicted weather variable at x=2: 57.0\n",
            "Enter a: 5\n",
            "Enter b: 9\n",
            "Enter c: 7\n",
            "Enter x: 15\n",
            "Predicted weather variable at x=15: 219\n"
          ]
        }
      ],
      "source": [
        "# Stage 1:Hard coding variables\n",
        "a = 7.5\n",
        "b = -4\n",
        "c = 35\n",
        "x = 2\n",
        "\n",
        "# Quadratic calculation:y = ax^2 + bx + c\n",
        "y = a * x**2 + b * x + c\n",
        "\n",
        "print(f\"Predicted weather variable at x={x}: {y}\")\n",
        "a = int(input(\"Enter a: \"))\n",
        "b = int(input(\"Enter b: \"))\n",
        "c = int(input(\"Enter c: \"))\n",
        "x = int(input(\"Enter x: \"))\n",
        "\n",
        "# Quadratic calculation:y = ax^2 + bx + c\n",
        "y = a * x^2 + b*x + c\n",
        "print(f\"Predicted weather variable at x={x}: {y}\")"
      ]
    },
    {
      "cell_type": "code",
      "source": [
        "a = int(input(\"Enter a: \"))\n",
        "b = int(input(\"Enter b: \"))\n",
        "c = int(input(\"Enter c: \"))\n",
        "x = int(input(\"Enter x: \"))\n",
        "\n",
        "# Quadratic calculation:y = ax^2 + bx + c\n",
        "y = a * x^2 + b*x + c\n",
        "print(f\"Predicted weather variable at x={x}: {y}\")"
      ],
      "metadata": {
        "colab": {
          "base_uri": "https://localhost:8080/"
        },
        "id": "-WlrJrhTRidV",
        "outputId": "acb691bb-9db2-4d10-a984-7355665274db"
      },
      "execution_count": 8,
      "outputs": [
        {
          "output_type": "stream",
          "name": "stdout",
          "text": [
            "Enter a: 7\n",
            "Enter b: 5\n",
            "Enter c: 6\n",
            "Enter x: 15\n",
            "Predicted weather variable at x=15: 58\n"
          ]
        }
      ]
    },
    {
      "cell_type": "code",
      "source": [
        "# Stage 3: Read coefficients and x from a file (handles BOM)\n",
        "with open(\"data.txt\", \"r\", encoding=\"utf-8-sig\") as file: # Use encoding \"utf-8-sig\" when opening the file\n",
        "\n",
        "    line = file.readline()\n",
        "    a, b, c, x = map(float, line.split())\n",
        "\n",
        "T = a * x**2 + b * x + c\n",
        "print(f\"Predicted Temperature: {T:.2f}°C\")"
      ],
      "metadata": {
        "colab": {
          "base_uri": "https://localhost:8080/"
        },
        "id": "WSD61QeqSRGG",
        "outputId": "c7afcc34-298c-458c-a052-dc9de0b378b5"
      },
      "execution_count": 15,
      "outputs": [
        {
          "output_type": "stream",
          "name": "stdout",
          "text": [
            "Predicted Temperature: 37.50°C\n"
          ]
        }
      ]
    }
  ]
}